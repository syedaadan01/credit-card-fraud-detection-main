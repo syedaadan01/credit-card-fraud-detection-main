{
 "cells": [
  {
   "cell_type": "markdown",
   "metadata": {
    "colab_type": "text",
    "id": "vbd2__F8u6U1"
   },
   "source": [
    "# Credit Card Fraud Detection\n",
    "Keeping customers money safe is primary job of any bank. Any fraud with credit card end up with loss to bank in terms of money, market reputation and customer trust."
   ]
  },
  {
   "cell_type": "markdown",
   "metadata": {},
   "source": [
    "## Dataset:\n",
    "https://www.kaggle.com/mlg-ulb/creditcardfraud"
   ]
  },
  {
   "cell_type": "code",
   "execution_count": 51,
   "metadata": {
    "colab": {
     "base_uri": "https://localhost:8080/",
     "height": 71
    },
    "colab_type": "code",
    "id": "IBb6AuWDu6U5",
    "outputId": "bf921bcd-fd07-451e-d7c4-4bcc75526937"
   },
   "outputs": [],
   "source": [
    "# Importing the libraries\n",
    "import pandas as pd\n",
    "import numpy as np\n",
    "\n",
    "import matplotlib.pyplot as plt\n",
    "%matplotlib inline\n",
    "import seaborn as sns\n",
    "\n",
    "import warnings\n",
    "warnings.filterwarnings('ignore')"
   ]
  },
  {
   "cell_type": "markdown",
   "metadata": {},
   "source": [
    "### Data Preprocessing"
   ]
  },
  {
   "cell_type": "code",
   "execution_count": 52,
   "metadata": {
    "colab": {
     "base_uri": "https://localhost:8080/",
     "height": 224
    },
    "colab_type": "code",
    "id": "nJT8RzWfu6VH",
    "outputId": "4e6fdc84-2888-40ed-924a-c46f7a2e6f40",
    "scrolled": true
   },
   "outputs": [
    {
     "data": {
      "text/html": [
       "<div>\n",
       "<style scoped>\n",
       "    .dataframe tbody tr th:only-of-type {\n",
       "        vertical-align: middle;\n",
       "    }\n",
       "\n",
       "    .dataframe tbody tr th {\n",
       "        vertical-align: top;\n",
       "    }\n",
       "\n",
       "    .dataframe thead th {\n",
       "        text-align: right;\n",
       "    }\n",
       "</style>\n",
       "<table border=\"1\" class=\"dataframe\">\n",
       "  <thead>\n",
       "    <tr style=\"text-align: right;\">\n",
       "      <th></th>\n",
       "      <th>Time</th>\n",
       "      <th>V1</th>\n",
       "      <th>V2</th>\n",
       "      <th>V3</th>\n",
       "      <th>V4</th>\n",
       "      <th>V5</th>\n",
       "      <th>V6</th>\n",
       "      <th>V7</th>\n",
       "      <th>V8</th>\n",
       "      <th>V9</th>\n",
       "      <th>...</th>\n",
       "      <th>V21</th>\n",
       "      <th>V22</th>\n",
       "      <th>V23</th>\n",
       "      <th>V24</th>\n",
       "      <th>V25</th>\n",
       "      <th>V26</th>\n",
       "      <th>V27</th>\n",
       "      <th>V28</th>\n",
       "      <th>Amount</th>\n",
       "      <th>Class</th>\n",
       "    </tr>\n",
       "  </thead>\n",
       "  <tbody>\n",
       "    <tr>\n",
       "      <th>0</th>\n",
       "      <td>0.0</td>\n",
       "      <td>-1.359807</td>\n",
       "      <td>-0.072781</td>\n",
       "      <td>2.536347</td>\n",
       "      <td>1.378155</td>\n",
       "      <td>-0.338321</td>\n",
       "      <td>0.462388</td>\n",
       "      <td>0.239599</td>\n",
       "      <td>0.098698</td>\n",
       "      <td>0.363787</td>\n",
       "      <td>...</td>\n",
       "      <td>-0.018307</td>\n",
       "      <td>0.277838</td>\n",
       "      <td>-0.110474</td>\n",
       "      <td>0.066928</td>\n",
       "      <td>0.128539</td>\n",
       "      <td>-0.189115</td>\n",
       "      <td>0.133558</td>\n",
       "      <td>-0.021053</td>\n",
       "      <td>149.62</td>\n",
       "      <td>0</td>\n",
       "    </tr>\n",
       "    <tr>\n",
       "      <th>1</th>\n",
       "      <td>0.0</td>\n",
       "      <td>1.191857</td>\n",
       "      <td>0.266151</td>\n",
       "      <td>0.166480</td>\n",
       "      <td>0.448154</td>\n",
       "      <td>0.060018</td>\n",
       "      <td>-0.082361</td>\n",
       "      <td>-0.078803</td>\n",
       "      <td>0.085102</td>\n",
       "      <td>-0.255425</td>\n",
       "      <td>...</td>\n",
       "      <td>-0.225775</td>\n",
       "      <td>-0.638672</td>\n",
       "      <td>0.101288</td>\n",
       "      <td>-0.339846</td>\n",
       "      <td>0.167170</td>\n",
       "      <td>0.125895</td>\n",
       "      <td>-0.008983</td>\n",
       "      <td>0.014724</td>\n",
       "      <td>2.69</td>\n",
       "      <td>0</td>\n",
       "    </tr>\n",
       "    <tr>\n",
       "      <th>2</th>\n",
       "      <td>1.0</td>\n",
       "      <td>-1.358354</td>\n",
       "      <td>-1.340163</td>\n",
       "      <td>1.773209</td>\n",
       "      <td>0.379780</td>\n",
       "      <td>-0.503198</td>\n",
       "      <td>1.800499</td>\n",
       "      <td>0.791461</td>\n",
       "      <td>0.247676</td>\n",
       "      <td>-1.514654</td>\n",
       "      <td>...</td>\n",
       "      <td>0.247998</td>\n",
       "      <td>0.771679</td>\n",
       "      <td>0.909412</td>\n",
       "      <td>-0.689281</td>\n",
       "      <td>-0.327642</td>\n",
       "      <td>-0.139097</td>\n",
       "      <td>-0.055353</td>\n",
       "      <td>-0.059752</td>\n",
       "      <td>378.66</td>\n",
       "      <td>0</td>\n",
       "    </tr>\n",
       "    <tr>\n",
       "      <th>3</th>\n",
       "      <td>1.0</td>\n",
       "      <td>-0.966272</td>\n",
       "      <td>-0.185226</td>\n",
       "      <td>1.792993</td>\n",
       "      <td>-0.863291</td>\n",
       "      <td>-0.010309</td>\n",
       "      <td>1.247203</td>\n",
       "      <td>0.237609</td>\n",
       "      <td>0.377436</td>\n",
       "      <td>-1.387024</td>\n",
       "      <td>...</td>\n",
       "      <td>-0.108300</td>\n",
       "      <td>0.005274</td>\n",
       "      <td>-0.190321</td>\n",
       "      <td>-1.175575</td>\n",
       "      <td>0.647376</td>\n",
       "      <td>-0.221929</td>\n",
       "      <td>0.062723</td>\n",
       "      <td>0.061458</td>\n",
       "      <td>123.50</td>\n",
       "      <td>0</td>\n",
       "    </tr>\n",
       "    <tr>\n",
       "      <th>4</th>\n",
       "      <td>2.0</td>\n",
       "      <td>-1.158233</td>\n",
       "      <td>0.877737</td>\n",
       "      <td>1.548718</td>\n",
       "      <td>0.403034</td>\n",
       "      <td>-0.407193</td>\n",
       "      <td>0.095921</td>\n",
       "      <td>0.592941</td>\n",
       "      <td>-0.270533</td>\n",
       "      <td>0.817739</td>\n",
       "      <td>...</td>\n",
       "      <td>-0.009431</td>\n",
       "      <td>0.798278</td>\n",
       "      <td>-0.137458</td>\n",
       "      <td>0.141267</td>\n",
       "      <td>-0.206010</td>\n",
       "      <td>0.502292</td>\n",
       "      <td>0.219422</td>\n",
       "      <td>0.215153</td>\n",
       "      <td>69.99</td>\n",
       "      <td>0</td>\n",
       "    </tr>\n",
       "  </tbody>\n",
       "</table>\n",
       "<p>5 rows × 31 columns</p>\n",
       "</div>"
      ],
      "text/plain": [
       "   Time        V1        V2        V3        V4        V5        V6        V7  \\\n",
       "0   0.0 -1.359807 -0.072781  2.536347  1.378155 -0.338321  0.462388  0.239599   \n",
       "1   0.0  1.191857  0.266151  0.166480  0.448154  0.060018 -0.082361 -0.078803   \n",
       "2   1.0 -1.358354 -1.340163  1.773209  0.379780 -0.503198  1.800499  0.791461   \n",
       "3   1.0 -0.966272 -0.185226  1.792993 -0.863291 -0.010309  1.247203  0.237609   \n",
       "4   2.0 -1.158233  0.877737  1.548718  0.403034 -0.407193  0.095921  0.592941   \n",
       "\n",
       "         V8        V9  ...       V21       V22       V23       V24       V25  \\\n",
       "0  0.098698  0.363787  ... -0.018307  0.277838 -0.110474  0.066928  0.128539   \n",
       "1  0.085102 -0.255425  ... -0.225775 -0.638672  0.101288 -0.339846  0.167170   \n",
       "2  0.247676 -1.514654  ...  0.247998  0.771679  0.909412 -0.689281 -0.327642   \n",
       "3  0.377436 -1.387024  ... -0.108300  0.005274 -0.190321 -1.175575  0.647376   \n",
       "4 -0.270533  0.817739  ... -0.009431  0.798278 -0.137458  0.141267 -0.206010   \n",
       "\n",
       "        V26       V27       V28  Amount  Class  \n",
       "0 -0.189115  0.133558 -0.021053  149.62      0  \n",
       "1  0.125895 -0.008983  0.014724    2.69      0  \n",
       "2 -0.139097 -0.055353 -0.059752  378.66      0  \n",
       "3 -0.221929  0.062723  0.061458  123.50      0  \n",
       "4  0.502292  0.219422  0.215153   69.99      0  \n",
       "\n",
       "[5 rows x 31 columns]"
      ]
     },
     "execution_count": 52,
     "metadata": {},
     "output_type": "execute_result"
    }
   ],
   "source": [
    "# Reading the dataset\n",
    "df = pd.read_csv('datasets/creditcard.csv')\n",
    "df.head()"
   ]
  },
  {
   "cell_type": "code",
   "execution_count": 53,
   "metadata": {
    "colab": {
     "base_uri": "https://localhost:8080/",
     "height": 34
    },
    "colab_type": "code",
    "id": "K5Z1nxMfu6VN",
    "outputId": "91d012c6-d13b-48ea-ae83-92506a650b1e"
   },
   "outputs": [
    {
     "data": {
      "text/plain": [
       "(284807, 31)"
      ]
     },
     "execution_count": 53,
     "metadata": {},
     "output_type": "execute_result"
    }
   ],
   "source": [
    "df.shape"
   ]
  },
  {
   "cell_type": "code",
   "execution_count": 54,
   "metadata": {
    "colab": {
     "base_uri": "https://localhost:8080/",
     "height": 317
    },
    "colab_type": "code",
    "id": "SxgZyGKvu6VX",
    "outputId": "a9cb967a-3236-45e2-8bf5-cc8fac0ec387"
   },
   "outputs": [
    {
     "data": {
      "text/html": [
       "<div>\n",
       "<style scoped>\n",
       "    .dataframe tbody tr th:only-of-type {\n",
       "        vertical-align: middle;\n",
       "    }\n",
       "\n",
       "    .dataframe tbody tr th {\n",
       "        vertical-align: top;\n",
       "    }\n",
       "\n",
       "    .dataframe thead th {\n",
       "        text-align: right;\n",
       "    }\n",
       "</style>\n",
       "<table border=\"1\" class=\"dataframe\">\n",
       "  <thead>\n",
       "    <tr style=\"text-align: right;\">\n",
       "      <th></th>\n",
       "      <th>Time</th>\n",
       "      <th>V1</th>\n",
       "      <th>V2</th>\n",
       "      <th>V3</th>\n",
       "      <th>V4</th>\n",
       "      <th>V5</th>\n",
       "      <th>V6</th>\n",
       "      <th>V7</th>\n",
       "      <th>V8</th>\n",
       "      <th>V9</th>\n",
       "      <th>...</th>\n",
       "      <th>V21</th>\n",
       "      <th>V22</th>\n",
       "      <th>V23</th>\n",
       "      <th>V24</th>\n",
       "      <th>V25</th>\n",
       "      <th>V26</th>\n",
       "      <th>V27</th>\n",
       "      <th>V28</th>\n",
       "      <th>Amount</th>\n",
       "      <th>Class</th>\n",
       "    </tr>\n",
       "  </thead>\n",
       "  <tbody>\n",
       "    <tr>\n",
       "      <th>count</th>\n",
       "      <td>284807.000000</td>\n",
       "      <td>2.848070e+05</td>\n",
       "      <td>2.848070e+05</td>\n",
       "      <td>2.848070e+05</td>\n",
       "      <td>2.848070e+05</td>\n",
       "      <td>2.848070e+05</td>\n",
       "      <td>2.848070e+05</td>\n",
       "      <td>2.848070e+05</td>\n",
       "      <td>2.848070e+05</td>\n",
       "      <td>2.848070e+05</td>\n",
       "      <td>...</td>\n",
       "      <td>2.848070e+05</td>\n",
       "      <td>2.848070e+05</td>\n",
       "      <td>2.848070e+05</td>\n",
       "      <td>2.848070e+05</td>\n",
       "      <td>2.848070e+05</td>\n",
       "      <td>2.848070e+05</td>\n",
       "      <td>2.848070e+05</td>\n",
       "      <td>2.848070e+05</td>\n",
       "      <td>284807.000000</td>\n",
       "      <td>284807.000000</td>\n",
       "    </tr>\n",
       "    <tr>\n",
       "      <th>mean</th>\n",
       "      <td>94813.859575</td>\n",
       "      <td>3.918649e-15</td>\n",
       "      <td>5.682686e-16</td>\n",
       "      <td>-8.761736e-15</td>\n",
       "      <td>2.811118e-15</td>\n",
       "      <td>-1.552103e-15</td>\n",
       "      <td>2.040130e-15</td>\n",
       "      <td>-1.698953e-15</td>\n",
       "      <td>-1.893285e-16</td>\n",
       "      <td>-3.147640e-15</td>\n",
       "      <td>...</td>\n",
       "      <td>1.473120e-16</td>\n",
       "      <td>8.042109e-16</td>\n",
       "      <td>5.282512e-16</td>\n",
       "      <td>4.456271e-15</td>\n",
       "      <td>1.426896e-15</td>\n",
       "      <td>1.701640e-15</td>\n",
       "      <td>-3.662252e-16</td>\n",
       "      <td>-1.217809e-16</td>\n",
       "      <td>88.349619</td>\n",
       "      <td>0.001727</td>\n",
       "    </tr>\n",
       "    <tr>\n",
       "      <th>std</th>\n",
       "      <td>47488.145955</td>\n",
       "      <td>1.958696e+00</td>\n",
       "      <td>1.651309e+00</td>\n",
       "      <td>1.516255e+00</td>\n",
       "      <td>1.415869e+00</td>\n",
       "      <td>1.380247e+00</td>\n",
       "      <td>1.332271e+00</td>\n",
       "      <td>1.237094e+00</td>\n",
       "      <td>1.194353e+00</td>\n",
       "      <td>1.098632e+00</td>\n",
       "      <td>...</td>\n",
       "      <td>7.345240e-01</td>\n",
       "      <td>7.257016e-01</td>\n",
       "      <td>6.244603e-01</td>\n",
       "      <td>6.056471e-01</td>\n",
       "      <td>5.212781e-01</td>\n",
       "      <td>4.822270e-01</td>\n",
       "      <td>4.036325e-01</td>\n",
       "      <td>3.300833e-01</td>\n",
       "      <td>250.120109</td>\n",
       "      <td>0.041527</td>\n",
       "    </tr>\n",
       "    <tr>\n",
       "      <th>min</th>\n",
       "      <td>0.000000</td>\n",
       "      <td>-5.640751e+01</td>\n",
       "      <td>-7.271573e+01</td>\n",
       "      <td>-4.832559e+01</td>\n",
       "      <td>-5.683171e+00</td>\n",
       "      <td>-1.137433e+02</td>\n",
       "      <td>-2.616051e+01</td>\n",
       "      <td>-4.355724e+01</td>\n",
       "      <td>-7.321672e+01</td>\n",
       "      <td>-1.343407e+01</td>\n",
       "      <td>...</td>\n",
       "      <td>-3.483038e+01</td>\n",
       "      <td>-1.093314e+01</td>\n",
       "      <td>-4.480774e+01</td>\n",
       "      <td>-2.836627e+00</td>\n",
       "      <td>-1.029540e+01</td>\n",
       "      <td>-2.604551e+00</td>\n",
       "      <td>-2.256568e+01</td>\n",
       "      <td>-1.543008e+01</td>\n",
       "      <td>0.000000</td>\n",
       "      <td>0.000000</td>\n",
       "    </tr>\n",
       "    <tr>\n",
       "      <th>25%</th>\n",
       "      <td>54201.500000</td>\n",
       "      <td>-9.203734e-01</td>\n",
       "      <td>-5.985499e-01</td>\n",
       "      <td>-8.903648e-01</td>\n",
       "      <td>-8.486401e-01</td>\n",
       "      <td>-6.915971e-01</td>\n",
       "      <td>-7.682956e-01</td>\n",
       "      <td>-5.540759e-01</td>\n",
       "      <td>-2.086297e-01</td>\n",
       "      <td>-6.430976e-01</td>\n",
       "      <td>...</td>\n",
       "      <td>-2.283949e-01</td>\n",
       "      <td>-5.423504e-01</td>\n",
       "      <td>-1.618463e-01</td>\n",
       "      <td>-3.545861e-01</td>\n",
       "      <td>-3.171451e-01</td>\n",
       "      <td>-3.269839e-01</td>\n",
       "      <td>-7.083953e-02</td>\n",
       "      <td>-5.295979e-02</td>\n",
       "      <td>5.600000</td>\n",
       "      <td>0.000000</td>\n",
       "    </tr>\n",
       "    <tr>\n",
       "      <th>50%</th>\n",
       "      <td>84692.000000</td>\n",
       "      <td>1.810880e-02</td>\n",
       "      <td>6.548556e-02</td>\n",
       "      <td>1.798463e-01</td>\n",
       "      <td>-1.984653e-02</td>\n",
       "      <td>-5.433583e-02</td>\n",
       "      <td>-2.741871e-01</td>\n",
       "      <td>4.010308e-02</td>\n",
       "      <td>2.235804e-02</td>\n",
       "      <td>-5.142873e-02</td>\n",
       "      <td>...</td>\n",
       "      <td>-2.945017e-02</td>\n",
       "      <td>6.781943e-03</td>\n",
       "      <td>-1.119293e-02</td>\n",
       "      <td>4.097606e-02</td>\n",
       "      <td>1.659350e-02</td>\n",
       "      <td>-5.213911e-02</td>\n",
       "      <td>1.342146e-03</td>\n",
       "      <td>1.124383e-02</td>\n",
       "      <td>22.000000</td>\n",
       "      <td>0.000000</td>\n",
       "    </tr>\n",
       "    <tr>\n",
       "      <th>75%</th>\n",
       "      <td>139320.500000</td>\n",
       "      <td>1.315642e+00</td>\n",
       "      <td>8.037239e-01</td>\n",
       "      <td>1.027196e+00</td>\n",
       "      <td>7.433413e-01</td>\n",
       "      <td>6.119264e-01</td>\n",
       "      <td>3.985649e-01</td>\n",
       "      <td>5.704361e-01</td>\n",
       "      <td>3.273459e-01</td>\n",
       "      <td>5.971390e-01</td>\n",
       "      <td>...</td>\n",
       "      <td>1.863772e-01</td>\n",
       "      <td>5.285536e-01</td>\n",
       "      <td>1.476421e-01</td>\n",
       "      <td>4.395266e-01</td>\n",
       "      <td>3.507156e-01</td>\n",
       "      <td>2.409522e-01</td>\n",
       "      <td>9.104512e-02</td>\n",
       "      <td>7.827995e-02</td>\n",
       "      <td>77.165000</td>\n",
       "      <td>0.000000</td>\n",
       "    </tr>\n",
       "    <tr>\n",
       "      <th>max</th>\n",
       "      <td>172792.000000</td>\n",
       "      <td>2.454930e+00</td>\n",
       "      <td>2.205773e+01</td>\n",
       "      <td>9.382558e+00</td>\n",
       "      <td>1.687534e+01</td>\n",
       "      <td>3.480167e+01</td>\n",
       "      <td>7.330163e+01</td>\n",
       "      <td>1.205895e+02</td>\n",
       "      <td>2.000721e+01</td>\n",
       "      <td>1.559499e+01</td>\n",
       "      <td>...</td>\n",
       "      <td>2.720284e+01</td>\n",
       "      <td>1.050309e+01</td>\n",
       "      <td>2.252841e+01</td>\n",
       "      <td>4.584549e+00</td>\n",
       "      <td>7.519589e+00</td>\n",
       "      <td>3.517346e+00</td>\n",
       "      <td>3.161220e+01</td>\n",
       "      <td>3.384781e+01</td>\n",
       "      <td>25691.160000</td>\n",
       "      <td>1.000000</td>\n",
       "    </tr>\n",
       "  </tbody>\n",
       "</table>\n",
       "<p>8 rows × 31 columns</p>\n",
       "</div>"
      ],
      "text/plain": [
       "                Time            V1            V2            V3            V4  \\\n",
       "count  284807.000000  2.848070e+05  2.848070e+05  2.848070e+05  2.848070e+05   \n",
       "mean    94813.859575  3.918649e-15  5.682686e-16 -8.761736e-15  2.811118e-15   \n",
       "std     47488.145955  1.958696e+00  1.651309e+00  1.516255e+00  1.415869e+00   \n",
       "min         0.000000 -5.640751e+01 -7.271573e+01 -4.832559e+01 -5.683171e+00   \n",
       "25%     54201.500000 -9.203734e-01 -5.985499e-01 -8.903648e-01 -8.486401e-01   \n",
       "50%     84692.000000  1.810880e-02  6.548556e-02  1.798463e-01 -1.984653e-02   \n",
       "75%    139320.500000  1.315642e+00  8.037239e-01  1.027196e+00  7.433413e-01   \n",
       "max    172792.000000  2.454930e+00  2.205773e+01  9.382558e+00  1.687534e+01   \n",
       "\n",
       "                 V5            V6            V7            V8            V9  \\\n",
       "count  2.848070e+05  2.848070e+05  2.848070e+05  2.848070e+05  2.848070e+05   \n",
       "mean  -1.552103e-15  2.040130e-15 -1.698953e-15 -1.893285e-16 -3.147640e-15   \n",
       "std    1.380247e+00  1.332271e+00  1.237094e+00  1.194353e+00  1.098632e+00   \n",
       "min   -1.137433e+02 -2.616051e+01 -4.355724e+01 -7.321672e+01 -1.343407e+01   \n",
       "25%   -6.915971e-01 -7.682956e-01 -5.540759e-01 -2.086297e-01 -6.430976e-01   \n",
       "50%   -5.433583e-02 -2.741871e-01  4.010308e-02  2.235804e-02 -5.142873e-02   \n",
       "75%    6.119264e-01  3.985649e-01  5.704361e-01  3.273459e-01  5.971390e-01   \n",
       "max    3.480167e+01  7.330163e+01  1.205895e+02  2.000721e+01  1.559499e+01   \n",
       "\n",
       "       ...           V21           V22           V23           V24  \\\n",
       "count  ...  2.848070e+05  2.848070e+05  2.848070e+05  2.848070e+05   \n",
       "mean   ...  1.473120e-16  8.042109e-16  5.282512e-16  4.456271e-15   \n",
       "std    ...  7.345240e-01  7.257016e-01  6.244603e-01  6.056471e-01   \n",
       "min    ... -3.483038e+01 -1.093314e+01 -4.480774e+01 -2.836627e+00   \n",
       "25%    ... -2.283949e-01 -5.423504e-01 -1.618463e-01 -3.545861e-01   \n",
       "50%    ... -2.945017e-02  6.781943e-03 -1.119293e-02  4.097606e-02   \n",
       "75%    ...  1.863772e-01  5.285536e-01  1.476421e-01  4.395266e-01   \n",
       "max    ...  2.720284e+01  1.050309e+01  2.252841e+01  4.584549e+00   \n",
       "\n",
       "                V25           V26           V27           V28         Amount  \\\n",
       "count  2.848070e+05  2.848070e+05  2.848070e+05  2.848070e+05  284807.000000   \n",
       "mean   1.426896e-15  1.701640e-15 -3.662252e-16 -1.217809e-16      88.349619   \n",
       "std    5.212781e-01  4.822270e-01  4.036325e-01  3.300833e-01     250.120109   \n",
       "min   -1.029540e+01 -2.604551e+00 -2.256568e+01 -1.543008e+01       0.000000   \n",
       "25%   -3.171451e-01 -3.269839e-01 -7.083953e-02 -5.295979e-02       5.600000   \n",
       "50%    1.659350e-02 -5.213911e-02  1.342146e-03  1.124383e-02      22.000000   \n",
       "75%    3.507156e-01  2.409522e-01  9.104512e-02  7.827995e-02      77.165000   \n",
       "max    7.519589e+00  3.517346e+00  3.161220e+01  3.384781e+01   25691.160000   \n",
       "\n",
       "               Class  \n",
       "count  284807.000000  \n",
       "mean        0.001727  \n",
       "std         0.041527  \n",
       "min         0.000000  \n",
       "25%         0.000000  \n",
       "50%         0.000000  \n",
       "75%         0.000000  \n",
       "max         1.000000  \n",
       "\n",
       "[8 rows x 31 columns]"
      ]
     },
     "execution_count": 54,
     "metadata": {},
     "output_type": "execute_result"
    }
   ],
   "source": [
    "df.describe()"
   ]
  },
  {
   "cell_type": "markdown",
   "metadata": {
    "colab_type": "text",
    "id": "soiQvVSVu6Ve"
   },
   "source": [
    "#### Handle missing values"
   ]
  },
  {
   "cell_type": "code",
   "execution_count": 55,
   "metadata": {
    "colab": {
     "base_uri": "https://localhost:8080/",
     "height": 1000
    },
    "colab_type": "code",
    "id": "v52fVzbVu6Vf",
    "outputId": "8fe4e0f6-5682-4784-c4dd-0168894a9942"
   },
   "outputs": [
    {
     "data": {
      "text/plain": [
       "Time      0\n",
       "V1        0\n",
       "V2        0\n",
       "V3        0\n",
       "V4        0\n",
       "V5        0\n",
       "V6        0\n",
       "V7        0\n",
       "V8        0\n",
       "V9        0\n",
       "V10       0\n",
       "V11       0\n",
       "V12       0\n",
       "V13       0\n",
       "V14       0\n",
       "V15       0\n",
       "V16       0\n",
       "V17       0\n",
       "V18       0\n",
       "V19       0\n",
       "V20       0\n",
       "V21       0\n",
       "V22       0\n",
       "V23       0\n",
       "V24       0\n",
       "V25       0\n",
       "V26       0\n",
       "V27       0\n",
       "V28       0\n",
       "Amount    0\n",
       "Class     0\n",
       "dtype: int64"
      ]
     },
     "execution_count": 55,
     "metadata": {},
     "output_type": "execute_result"
    }
   ],
   "source": [
    "# Cheking missing values in columns\n",
    "df_missing_values = df.isnull().sum()\n",
    "df_missing_values "
   ]
  },
  {
   "cell_type": "markdown",
   "metadata": {
    "colab_type": "text",
    "id": "ya-zAvxdu6WX"
   },
   "source": [
    "#### Data distribution analysis"
   ]
  },
  {
   "cell_type": "code",
   "execution_count": 56,
   "metadata": {
    "colab": {
     "base_uri": "https://localhost:8080/",
     "height": 0
    },
    "colab_type": "code",
    "id": "VZVwJXggu6Wa",
    "outputId": "33dc0b65-0a15-41b5-8532-6c02eae9a15b"
   },
   "outputs": [
    {
     "data": {
      "text/plain": [
       "0    284315\n",
       "1       492\n",
       "Name: Class, dtype: int64"
      ]
     },
     "execution_count": 56,
     "metadata": {},
     "output_type": "execute_result"
    }
   ],
   "source": [
    "classes = df['Class'].value_counts()\n",
    "classes"
   ]
  },
  {
   "cell_type": "code",
   "execution_count": 57,
   "metadata": {
    "colab": {
     "base_uri": "https://localhost:8080/",
     "height": 0
    },
    "colab_type": "code",
    "id": "-pOhCEWKu6XG",
    "outputId": "b3c33f8a-a121-48b7-9a34-804ca94a21bb"
   },
   "outputs": [
    {
     "data": {
      "image/png": "[encoded data removed]",
      "text/plain": [
       "<Figure size 432x288 with 1 Axes>"
      ]
     },
     "metadata": {
      "needs_background": "light"
     },
     "output_type": "display_data"
    }
   ],
   "source": [
    "sns.countplot(x='Class', data=df)\n",
    "plt.title('Number of fraud vs non-fraud transcations')\n",
    "plt.show()"
   ]
  },
  {
   "cell_type": "markdown",
   "metadata": {
    "colab_type": "text",
    "id": "J4i9QZjAu6Xe"
   },
   "source": [
    "#### Outliers treatment"
   ]
  },
  {
   "cell_type": "markdown",
   "metadata": {
    "colab": {},
    "colab_type": "code",
    "id": "w2Euk-EDu6Xg"
   },
   "source": [
    "We are not performing any outliers treatment for this particular dataset. Because all the columns are already PCA transformed, which assumed that the outlier values are taken care while transforming the data."
   ]
  },
  {
   "cell_type": "markdown",
   "metadata": {
    "colab_type": "text",
    "id": "vjP3ce_Au6Xn"
   },
   "source": [
    "#### distribution of classes with time"
   ]
  },
  {
   "cell_type": "code",
   "execution_count": 58,
   "metadata": {
    "colab": {},
    "colab_type": "code",
    "id": "7bFe7Q01u6Xp"
   },
   "outputs": [],
   "source": [
    "# Creating fraud dataframe\n",
    "data_fraud = df[df['Class'] == 1]\n",
    "# Creating non fraud dataframe\n",
    "data_non_fraud = df[df['Class'] == 0]"
   ]
  },
  {
   "cell_type": "code",
   "execution_count": 59,
   "metadata": {
    "colab": {},
    "colab_type": "code",
    "id": "Vq76AVf_u6Xw"
   },
   "outputs": [
    {
     "data": {
      "image/png": "[encoded data removed]",
      "text/plain": [
       "<Figure size 576x360 with 1 Axes>"
      ]
     },
     "metadata": {
      "needs_background": "light"
     },
     "output_type": "display_data"
    }
   ],
   "source": [
    "# Distribution plot\n",
    "plt.figure(figsize=(8,5))\n",
    "ax = sns.distplot(data_fraud['Time'],label='fraudt',hist=False)\n",
    "ax = sns.distplot(data_non_fraud['Time'],label='non fraud',hist=False)\n",
    "ax.set(xlabel='Seconds elapsed between the transction and the first transction')\n",
    "plt.show()"
   ]
  },
  {
   "cell_type": "markdown",
   "metadata": {
    "colab_type": "text",
    "id": "GAW4QoScu6X2"
   },
   "source": [
    "##### Analysis\n",
    "We do not see any specific pattern for the fraudulent and non-fraudulent transctions with respect to Time.\n",
    "Hence, we can drop the `Time` column."
   ]
  },
  {
   "cell_type": "code",
   "execution_count": 60,
   "metadata": {
    "colab": {},
    "colab_type": "code",
    "id": "XnT3BqXHu6X4"
   },
   "outputs": [],
   "source": [
    "# Dropping the Time column\n",
    "df.drop('Time', axis=1, inplace=True)"
   ]
  },
  {
   "cell_type": "markdown",
   "metadata": {
    "colab_type": "text",
    "id": "Nm6gXB1Ou6YB"
   },
   "source": [
    "#### distribution of classes with amount"
   ]
  },
  {
   "cell_type": "code",
   "execution_count": 61,
   "metadata": {
    "colab": {},
    "colab_type": "code",
    "id": "uxhBWt42u6YC"
   },
   "outputs": [
    {
     "data": {
      "image/png": "[encoded data removed]",
      "text/plain": [
       "<Figure size 576x360 with 1 Axes>"
      ]
     },
     "metadata": {
      "needs_background": "light"
     },
     "output_type": "display_data"
    }
   ],
   "source": [
    "# Distribution plot\n",
    "plt.figure(figsize=(8,5))\n",
    "ax = sns.distplot(data_fraud['Amount'],label='fraudulent',hist=False)\n",
    "ax = sns.distplot(data_non_fraud['Time'],label='non fraudulent',hist=False)\n",
    "ax.set(xlabel='Transction Amount')\n",
    "plt.show()"
   ]
  },
  {
   "cell_type": "markdown",
   "metadata": {
    "colab_type": "text",
    "id": "hPisBCVFu6YI"
   },
   "source": [
    "##### Analysis\n",
    "We can see that the fraud transctions are mostly densed in the lower range of amount, whereas the non-fraud transctions are spreaded throughout low to high range of amount. "
   ]
  },
  {
   "cell_type": "markdown",
   "metadata": {
    "colab_type": "text",
    "id": "dQ7CcJj5u6YK"
   },
   "source": [
    "## Train-Test Split"
   ]
  },
  {
   "cell_type": "code",
   "execution_count": 62,
   "metadata": {
    "colab": {},
    "colab_type": "code",
    "id": "1t9AR81Mu6YL"
   },
   "outputs": [],
   "source": [
    "# Import library\n",
    "from sklearn.model_selection import train_test_split"
   ]
  },
  {
   "cell_type": "code",
   "execution_count": 63,
   "metadata": {
    "colab": {},
    "colab_type": "code",
    "id": "YTvEou3eu6YS"
   },
   "outputs": [],
   "source": [
    "# Putting feature variables into X\n",
    "X = df.drop(['Class'], axis=1)"
   ]
  },
  {
   "cell_type": "code",
   "execution_count": 64,
   "metadata": {
    "colab": {},
    "colab_type": "code",
    "id": "eBAoEhdKu6YY"
   },
   "outputs": [],
   "source": [
    "# Putting target variable to y\n",
    "y = df['Class']"
   ]
  },
  {
   "cell_type": "code",
   "execution_count": 65,
   "metadata": {
    "colab": {},
    "colab_type": "code",
    "id": "AT-JCXQCu6Yd"
   },
   "outputs": [],
   "source": [
    "# Splitting data into train and test set 80:20\n",
    "X_train, X_test, y_train, y_test = train_test_split(X, y, train_size=0.8, test_size=0.2, random_state=100)"
   ]
  },
  {
   "cell_type": "markdown",
   "metadata": {
    "colab_type": "text",
    "id": "ZjBOOoRRu6Yi"
   },
   "source": [
    "### Feature Scaling\n",
    "We need to scale only the `Amount` column as all other columns are already scaled by the PCA transformation."
   ]
  },
  {
   "cell_type": "code",
   "execution_count": 66,
   "metadata": {
    "colab": {},
    "colab_type": "code",
    "id": "ZzvfGrEau6Yj"
   },
   "outputs": [],
   "source": [
    "# Standardization method\n",
    "from sklearn.preprocessing import StandardScaler"
   ]
  },
  {
   "cell_type": "code",
   "execution_count": 67,
   "metadata": {
    "colab": {},
    "colab_type": "code",
    "id": "l6MgJu5Yu6Yq"
   },
   "outputs": [],
   "source": [
    "# Instantiate the Scaler\n",
    "scaler = StandardScaler()"
   ]
  },
  {
   "cell_type": "code",
   "execution_count": 68,
   "metadata": {
    "colab": {},
    "colab_type": "code",
    "id": "qF9gCgoLu6Yy"
   },
   "outputs": [],
   "source": [
    "# Fit the data into scaler and transform\n",
    "X_train['Amount'] = scaler.fit_transform(X_train[['Amount']])"
   ]
  },
  {
   "cell_type": "code",
   "execution_count": 69,
   "metadata": {
    "colab": {
     "base_uri": "https://localhost:8080/",
     "height": 0
    },
    "colab_type": "code",
    "id": "e3jOBWv5u6Y3",
    "outputId": "74202183-a70d-43fe-efd9-ed599dba2cbf"
   },
   "outputs": [
    {
     "data": {
      "text/html": [
       "<div>\n",
       "<style scoped>\n",
       "    .dataframe tbody tr th:only-of-type {\n",
       "        vertical-align: middle;\n",
       "    }\n",
       "\n",
       "    .dataframe tbody tr th {\n",
       "        vertical-align: top;\n",
       "    }\n",
       "\n",
       "    .dataframe thead th {\n",
       "        text-align: right;\n",
       "    }\n",
       "</style>\n",
       "<table border=\"1\" class=\"dataframe\">\n",
       "  <thead>\n",
       "    <tr style=\"text-align: right;\">\n",
       "      <th></th>\n",
       "      <th>V1</th>\n",
       "      <th>V2</th>\n",
       "      <th>V3</th>\n",
       "      <th>V4</th>\n",
       "      <th>V5</th>\n",
       "      <th>V6</th>\n",
       "      <th>V7</th>\n",
       "      <th>V8</th>\n",
       "      <th>V9</th>\n",
       "      <th>V10</th>\n",
       "      <th>...</th>\n",
       "      <th>V20</th>\n",
       "      <th>V21</th>\n",
       "      <th>V22</th>\n",
       "      <th>V23</th>\n",
       "      <th>V24</th>\n",
       "      <th>V25</th>\n",
       "      <th>V26</th>\n",
       "      <th>V27</th>\n",
       "      <th>V28</th>\n",
       "      <th>Amount</th>\n",
       "    </tr>\n",
       "  </thead>\n",
       "  <tbody>\n",
       "    <tr>\n",
       "      <th>201788</th>\n",
       "      <td>2.023734</td>\n",
       "      <td>-0.429219</td>\n",
       "      <td>-0.691061</td>\n",
       "      <td>-0.201461</td>\n",
       "      <td>-0.162486</td>\n",
       "      <td>0.283718</td>\n",
       "      <td>-0.674694</td>\n",
       "      <td>0.192230</td>\n",
       "      <td>1.124319</td>\n",
       "      <td>-0.037763</td>\n",
       "      <td>...</td>\n",
       "      <td>-0.171390</td>\n",
       "      <td>-0.195207</td>\n",
       "      <td>-0.477813</td>\n",
       "      <td>0.340513</td>\n",
       "      <td>0.059174</td>\n",
       "      <td>-0.431015</td>\n",
       "      <td>-0.297028</td>\n",
       "      <td>-0.000063</td>\n",
       "      <td>-0.046947</td>\n",
       "      <td>-0.345273</td>\n",
       "    </tr>\n",
       "    <tr>\n",
       "      <th>179369</th>\n",
       "      <td>-0.145286</td>\n",
       "      <td>0.736735</td>\n",
       "      <td>0.543226</td>\n",
       "      <td>0.892662</td>\n",
       "      <td>0.350846</td>\n",
       "      <td>0.089253</td>\n",
       "      <td>0.626708</td>\n",
       "      <td>-0.049137</td>\n",
       "      <td>-0.732566</td>\n",
       "      <td>0.297692</td>\n",
       "      <td>...</td>\n",
       "      <td>0.206709</td>\n",
       "      <td>-0.124288</td>\n",
       "      <td>-0.263560</td>\n",
       "      <td>-0.110568</td>\n",
       "      <td>-0.434224</td>\n",
       "      <td>-0.509076</td>\n",
       "      <td>0.719784</td>\n",
       "      <td>-0.006357</td>\n",
       "      <td>0.146053</td>\n",
       "      <td>-0.206439</td>\n",
       "    </tr>\n",
       "    <tr>\n",
       "      <th>73138</th>\n",
       "      <td>-3.015846</td>\n",
       "      <td>-1.920606</td>\n",
       "      <td>1.229574</td>\n",
       "      <td>0.721577</td>\n",
       "      <td>1.089918</td>\n",
       "      <td>-0.195727</td>\n",
       "      <td>-0.462586</td>\n",
       "      <td>0.919341</td>\n",
       "      <td>-0.612193</td>\n",
       "      <td>-0.966197</td>\n",
       "      <td>...</td>\n",
       "      <td>0.842838</td>\n",
       "      <td>0.274911</td>\n",
       "      <td>-0.319550</td>\n",
       "      <td>0.212891</td>\n",
       "      <td>-0.268792</td>\n",
       "      <td>0.241190</td>\n",
       "      <td>0.318445</td>\n",
       "      <td>-0.100726</td>\n",
       "      <td>-0.365257</td>\n",
       "      <td>0.358043</td>\n",
       "    </tr>\n",
       "    <tr>\n",
       "      <th>208679</th>\n",
       "      <td>1.851980</td>\n",
       "      <td>-1.007445</td>\n",
       "      <td>-1.499762</td>\n",
       "      <td>-0.220770</td>\n",
       "      <td>-0.568376</td>\n",
       "      <td>-1.232633</td>\n",
       "      <td>0.248573</td>\n",
       "      <td>-0.539483</td>\n",
       "      <td>-0.813368</td>\n",
       "      <td>0.785431</td>\n",
       "      <td>...</td>\n",
       "      <td>-0.196551</td>\n",
       "      <td>-0.406722</td>\n",
       "      <td>-0.899081</td>\n",
       "      <td>0.137370</td>\n",
       "      <td>0.075894</td>\n",
       "      <td>-0.244027</td>\n",
       "      <td>0.455618</td>\n",
       "      <td>-0.094066</td>\n",
       "      <td>-0.031488</td>\n",
       "      <td>0.362400</td>\n",
       "    </tr>\n",
       "    <tr>\n",
       "      <th>206534</th>\n",
       "      <td>2.237844</td>\n",
       "      <td>-0.551513</td>\n",
       "      <td>-1.426515</td>\n",
       "      <td>-0.924369</td>\n",
       "      <td>-0.401734</td>\n",
       "      <td>-1.438232</td>\n",
       "      <td>-0.119942</td>\n",
       "      <td>-0.449263</td>\n",
       "      <td>-0.717258</td>\n",
       "      <td>0.851668</td>\n",
       "      <td>...</td>\n",
       "      <td>-0.045417</td>\n",
       "      <td>0.050447</td>\n",
       "      <td>0.125601</td>\n",
       "      <td>0.215531</td>\n",
       "      <td>-0.080485</td>\n",
       "      <td>-0.063975</td>\n",
       "      <td>-0.307176</td>\n",
       "      <td>-0.042838</td>\n",
       "      <td>-0.063872</td>\n",
       "      <td>-0.316109</td>\n",
       "    </tr>\n",
       "  </tbody>\n",
       "</table>\n",
       "<p>5 rows × 29 columns</p>\n",
       "</div>"
      ],
      "text/plain": [
       "              V1        V2        V3        V4        V5        V6        V7  \\\n",
       "201788  2.023734 -0.429219 -0.691061 -0.201461 -0.162486  0.283718 -0.674694   \n",
       "179369 -0.145286  0.736735  0.543226  0.892662  0.350846  0.089253  0.626708   \n",
       "73138  -3.015846 -1.920606  1.229574  0.721577  1.089918 -0.195727 -0.462586   \n",
       "208679  1.851980 -1.007445 -1.499762 -0.220770 -0.568376 -1.232633  0.248573   \n",
       "206534  2.237844 -0.551513 -1.426515 -0.924369 -0.401734 -1.438232 -0.119942   \n",
       "\n",
       "              V8        V9       V10  ...       V20       V21       V22  \\\n",
       "201788  0.192230  1.124319 -0.037763  ... -0.171390 -0.195207 -0.477813   \n",
       "179369 -0.049137 -0.732566  0.297692  ...  0.206709 -0.124288 -0.263560   \n",
       "73138   0.919341 -0.612193 -0.966197  ...  0.842838  0.274911 -0.319550   \n",
       "208679 -0.539483 -0.813368  0.785431  ... -0.196551 -0.406722 -0.899081   \n",
       "206534 -0.449263 -0.717258  0.851668  ... -0.045417  0.050447  0.125601   \n",
       "\n",
       "             V23       V24       V25       V26       V27       V28    Amount  \n",
       "201788  0.340513  0.059174 -0.431015 -0.297028 -0.000063 -0.046947 -0.345273  \n",
       "179369 -0.110568 -0.434224 -0.509076  0.719784 -0.006357  0.146053 -0.206439  \n",
       "73138   0.212891 -0.268792  0.241190  0.318445 -0.100726 -0.365257  0.358043  \n",
       "208679  0.137370  0.075894 -0.244027  0.455618 -0.094066 -0.031488  0.362400  \n",
       "206534  0.215531 -0.080485 -0.063975 -0.307176 -0.042838 -0.063872 -0.316109  \n",
       "\n",
       "[5 rows x 29 columns]"
      ]
     },
     "execution_count": 69,
     "metadata": {},
     "output_type": "execute_result"
    }
   ],
   "source": [
    "X_train.head()"
   ]
  },
  {
   "cell_type": "markdown",
   "metadata": {
    "colab_type": "text",
    "id": "IPQlQ6CAu6Y8"
   },
   "source": [
    "##### Scale the test set\n"
   ]
  },
  {
   "cell_type": "code",
   "execution_count": 70,
   "metadata": {
    "colab": {
     "base_uri": "https://localhost:8080/",
     "height": 0
    },
    "colab_type": "code",
    "id": "7BNLTjaiu6Y9",
    "outputId": "a99bb681-c9e5-4ae8-c196-d6b93bfb6b3a"
   },
   "outputs": [
    {
     "data": {
      "text/html": [
       "<div>\n",
       "<style scoped>\n",
       "    .dataframe tbody tr th:only-of-type {\n",
       "        vertical-align: middle;\n",
       "    }\n",
       "\n",
       "    .dataframe tbody tr th {\n",
       "        vertical-align: top;\n",
       "    }\n",
       "\n",
       "    .dataframe thead th {\n",
       "        text-align: right;\n",
       "    }\n",
       "</style>\n",
       "<table border=\"1\" class=\"dataframe\">\n",
       "  <thead>\n",
       "    <tr style=\"text-align: right;\">\n",
       "      <th></th>\n",
       "      <th>V1</th>\n",
       "      <th>V2</th>\n",
       "      <th>V3</th>\n",
       "      <th>V4</th>\n",
       "      <th>V5</th>\n",
       "      <th>V6</th>\n",
       "      <th>V7</th>\n",
       "      <th>V8</th>\n",
       "      <th>V9</th>\n",
       "      <th>V10</th>\n",
       "      <th>...</th>\n",
       "      <th>V20</th>\n",
       "      <th>V21</th>\n",
       "      <th>V22</th>\n",
       "      <th>V23</th>\n",
       "      <th>V24</th>\n",
       "      <th>V25</th>\n",
       "      <th>V26</th>\n",
       "      <th>V27</th>\n",
       "      <th>V28</th>\n",
       "      <th>Amount</th>\n",
       "    </tr>\n",
       "  </thead>\n",
       "  <tbody>\n",
       "    <tr>\n",
       "      <th>49089</th>\n",
       "      <td>1.229452</td>\n",
       "      <td>-0.235478</td>\n",
       "      <td>-0.627166</td>\n",
       "      <td>0.419877</td>\n",
       "      <td>1.797014</td>\n",
       "      <td>4.069574</td>\n",
       "      <td>-0.896223</td>\n",
       "      <td>1.036103</td>\n",
       "      <td>0.745991</td>\n",
       "      <td>-0.147304</td>\n",
       "      <td>...</td>\n",
       "      <td>-0.057922</td>\n",
       "      <td>-0.170060</td>\n",
       "      <td>-0.288750</td>\n",
       "      <td>-0.130270</td>\n",
       "      <td>1.025935</td>\n",
       "      <td>0.847990</td>\n",
       "      <td>-0.271476</td>\n",
       "      <td>0.060052</td>\n",
       "      <td>0.018104</td>\n",
       "      <td>-0.340485</td>\n",
       "    </tr>\n",
       "    <tr>\n",
       "      <th>154704</th>\n",
       "      <td>2.016893</td>\n",
       "      <td>-0.088751</td>\n",
       "      <td>-2.989257</td>\n",
       "      <td>-0.142575</td>\n",
       "      <td>2.675427</td>\n",
       "      <td>3.332289</td>\n",
       "      <td>-0.652336</td>\n",
       "      <td>0.752811</td>\n",
       "      <td>1.962566</td>\n",
       "      <td>-1.025024</td>\n",
       "      <td>...</td>\n",
       "      <td>-0.147619</td>\n",
       "      <td>-0.184153</td>\n",
       "      <td>-0.089661</td>\n",
       "      <td>0.087188</td>\n",
       "      <td>0.570679</td>\n",
       "      <td>0.101899</td>\n",
       "      <td>0.620842</td>\n",
       "      <td>-0.048958</td>\n",
       "      <td>-0.042831</td>\n",
       "      <td>-0.320859</td>\n",
       "    </tr>\n",
       "    <tr>\n",
       "      <th>67247</th>\n",
       "      <td>0.535093</td>\n",
       "      <td>-1.469185</td>\n",
       "      <td>0.868279</td>\n",
       "      <td>0.385462</td>\n",
       "      <td>-1.439135</td>\n",
       "      <td>0.368118</td>\n",
       "      <td>-0.499370</td>\n",
       "      <td>0.303698</td>\n",
       "      <td>1.042073</td>\n",
       "      <td>-0.437209</td>\n",
       "      <td>...</td>\n",
       "      <td>0.437685</td>\n",
       "      <td>0.028010</td>\n",
       "      <td>-0.384708</td>\n",
       "      <td>-0.128376</td>\n",
       "      <td>0.286638</td>\n",
       "      <td>-0.136700</td>\n",
       "      <td>0.913904</td>\n",
       "      <td>-0.083364</td>\n",
       "      <td>0.052485</td>\n",
       "      <td>0.853442</td>\n",
       "    </tr>\n",
       "    <tr>\n",
       "      <th>251657</th>\n",
       "      <td>2.128486</td>\n",
       "      <td>-0.117215</td>\n",
       "      <td>-1.513910</td>\n",
       "      <td>0.166456</td>\n",
       "      <td>0.359070</td>\n",
       "      <td>-0.540072</td>\n",
       "      <td>0.116023</td>\n",
       "      <td>-0.216140</td>\n",
       "      <td>0.680314</td>\n",
       "      <td>0.079977</td>\n",
       "      <td>...</td>\n",
       "      <td>-0.227278</td>\n",
       "      <td>-0.357993</td>\n",
       "      <td>-0.905085</td>\n",
       "      <td>0.223474</td>\n",
       "      <td>-1.075605</td>\n",
       "      <td>-0.188519</td>\n",
       "      <td>0.267672</td>\n",
       "      <td>-0.071733</td>\n",
       "      <td>-0.072238</td>\n",
       "      <td>-0.344410</td>\n",
       "    </tr>\n",
       "    <tr>\n",
       "      <th>201903</th>\n",
       "      <td>0.558593</td>\n",
       "      <td>1.587908</td>\n",
       "      <td>-2.368767</td>\n",
       "      <td>5.124413</td>\n",
       "      <td>2.171788</td>\n",
       "      <td>-0.500419</td>\n",
       "      <td>1.059829</td>\n",
       "      <td>-0.254233</td>\n",
       "      <td>-1.959060</td>\n",
       "      <td>0.948915</td>\n",
       "      <td>...</td>\n",
       "      <td>0.249457</td>\n",
       "      <td>-0.035049</td>\n",
       "      <td>0.271455</td>\n",
       "      <td>0.381606</td>\n",
       "      <td>0.332001</td>\n",
       "      <td>-0.334757</td>\n",
       "      <td>0.448890</td>\n",
       "      <td>0.168585</td>\n",
       "      <td>0.004955</td>\n",
       "      <td>-0.229480</td>\n",
       "    </tr>\n",
       "  </tbody>\n",
       "</table>\n",
       "<p>5 rows × 29 columns</p>\n",
       "</div>"
      ],
      "text/plain": [
       "              V1        V2        V3        V4        V5        V6        V7  \\\n",
       "49089   1.229452 -0.235478 -0.627166  0.419877  1.797014  4.069574 -0.896223   \n",
       "154704  2.016893 -0.088751 -2.989257 -0.142575  2.675427  3.332289 -0.652336   \n",
       "67247   0.535093 -1.469185  0.868279  0.385462 -1.439135  0.368118 -0.499370   \n",
       "251657  2.128486 -0.117215 -1.513910  0.166456  0.359070 -0.540072  0.116023   \n",
       "201903  0.558593  1.587908 -2.368767  5.124413  2.171788 -0.500419  1.059829   \n",
       "\n",
       "              V8        V9       V10  ...       V20       V21       V22  \\\n",
       "49089   1.036103  0.745991 -0.147304  ... -0.057922 -0.170060 -0.288750   \n",
       "154704  0.752811  1.962566 -1.025024  ... -0.147619 -0.184153 -0.089661   \n",
       "67247   0.303698  1.042073 -0.437209  ...  0.437685  0.028010 -0.384708   \n",
       "251657 -0.216140  0.680314  0.079977  ... -0.227278 -0.357993 -0.905085   \n",
       "201903 -0.254233 -1.959060  0.948915  ...  0.249457 -0.035049  0.271455   \n",
       "\n",
       "             V23       V24       V25       V26       V27       V28    Amount  \n",
       "49089  -0.130270  1.025935  0.847990 -0.271476  0.060052  0.018104 -0.340485  \n",
       "154704  0.087188  0.570679  0.101899  0.620842 -0.048958 -0.042831 -0.320859  \n",
       "67247  -0.128376  0.286638 -0.136700  0.913904 -0.083364  0.052485  0.853442  \n",
       "251657  0.223474 -1.075605 -0.188519  0.267672 -0.071733 -0.072238 -0.344410  \n",
       "201903  0.381606  0.332001 -0.334757  0.448890  0.168585  0.004955 -0.229480  \n",
       "\n",
       "[5 rows x 29 columns]"
      ]
     },
     "execution_count": 70,
     "metadata": {},
     "output_type": "execute_result"
    }
   ],
   "source": [
    "# Transform the test set\n",
    "X_test['Amount'] = scaler.transform(X_test[['Amount']])\n",
    "X_test.head()"
   ]
  },
  {
   "cell_type": "markdown",
   "metadata": {
    "colab_type": "text",
    "id": "eN3HKn_vu6Z8"
   },
   "source": [
    "# Models"
   ]
  },
  {
   "cell_type": "code",
   "execution_count": 71,
   "metadata": {
    "colab": {},
    "colab_type": "code",
    "id": "1R-pakFmu6aE"
   },
   "outputs": [],
   "source": [
    "# Impoting metrics\n",
    "from sklearn import metrics\n",
    "from sklearn.metrics import confusion_matrix, ConfusionMatrixDisplay, classification_report, f1_score"
   ]
  },
  {
   "cell_type": "code",
   "execution_count": 72,
   "metadata": {
    "colab": {},
    "colab_type": "code",
    "id": "zCzUiIIHu6cM"
   },
   "outputs": [],
   "source": [
    "results = pd.DataFrame(columns=['Model Name', 'Accuracy', 'F1-score', 'ROC'])"
   ]
  },
  {
   "cell_type": "code",
   "execution_count": 73,
   "metadata": {},
   "outputs": [],
   "source": [
    "# ROC Curve function\n",
    "\n",
    "def draw_roc( actual, probs ):\n",
    "    fpr, tpr, thresholds = metrics.roc_curve( actual, probs,\n",
    "                                              drop_intermediate = False )\n",
    "    auc_score = metrics.roc_auc_score( actual, probs )\n",
    "    plt.figure(figsize=(5, 5))\n",
    "    plt.plot( fpr, tpr, label='ROC curve (area = %0.2f)' % auc_score )\n",
    "    plt.plot([0, 1], [0, 1], 'k--')\n",
    "    plt.xlim([0.0, 1.0])\n",
    "    plt.ylim([0.0, 1.05])\n",
    "    plt.xlabel('False Positive Rate or [1 - True Negative Rate]')\n",
    "    plt.ylabel('True Positive Rate')\n",
    "    plt.title('Receiver operating characteristic example')\n",
    "    plt.legend(loc=\"lower right\")\n",
    "    plt.show()\n",
    "\n",
    "    return None"
   ]
  },
  {
   "cell_type": "markdown",
   "metadata": {
    "colab_type": "text",
    "id": "p1ZC72gpu6Z-"
   },
   "source": [
    "### Logistic regression"
   ]
  },
  {
   "cell_type": "code",
   "execution_count": 74,
   "metadata": {
    "colab": {},
    "colab_type": "code",
    "id": "JkswPEwBu6Z_"
   },
   "outputs": [],
   "source": [
    "# Importing scikit logistic regression module\n",
    "from sklearn.linear_model import LogisticRegression"
   ]
  },
  {
   "cell_type": "code",
   "execution_count": 75,
   "metadata": {
    "colab": {},
    "colab_type": "code",
    "id": "x4iUliVvu6a0"
   },
   "outputs": [],
   "source": [
    "# Instantiate the model with best C\n",
    "logistic = LogisticRegression(C=0.01)"
   ]
  },
  {
   "cell_type": "code",
   "execution_count": 76,
   "metadata": {
    "colab": {},
    "colab_type": "code",
    "id": "fEPWrysIu6a7"
   },
   "outputs": [],
   "source": [
    "# Fit the model on the train set\n",
    "logistic_model = logistic.fit(X_train, y_train)"
   ]
  },
  {
   "cell_type": "code",
   "execution_count": 77,
   "metadata": {},
   "outputs": [],
   "source": [
    "# Prepare results function\n",
    "def display_test_results(model_name, model):\n",
    "    \n",
    "    # Prediction on the test set\n",
    "    y_test_pred = model.predict(X_test)\n",
    "    \n",
    "    # Confusion matrix\n",
    "    print(\"------------------ Confusion Matrix --------------------\")\n",
    "    c_matrix = metrics.confusion_matrix(y_test, y_test_pred)\n",
    "    print(c_matrix)\n",
    "    \n",
    "    cm_display = ConfusionMatrixDisplay(confusion_matrix=c_matrix)\n",
    "    cm_display.plot(cmap=plt.cm.Blues)\n",
    "    plt.show()\n",
    "    \n",
    "\n",
    "    # classification_report\n",
    "    print(\"------------------ classification_report --------------------\")\n",
    "    print(classification_report(y_test, y_test_pred))\n",
    "    \n",
    "    print(\"------------------ More Specific classification_report --------------------\")\n",
    "    TP = c_matrix[1,1] # true positive \n",
    "    TN = c_matrix[0,0] # true negatives\n",
    "    FP = c_matrix[0,1] # false positives\n",
    "    FN = c_matrix[1,0] # false negatives\n",
    "\n",
    "    # Accuracy\n",
    "    print(\"Accuracy:-\",metrics.accuracy_score(y_test, y_test_pred))\n",
    "\n",
    "    # Sensitivity\n",
    "    print(\"Sensitivity:-\",TP / float(TP+FN))\n",
    "\n",
    "    # Specificity\n",
    "    print(\"Specificity:-\", TN / float(TN+FP))\n",
    "\n",
    "    # F1 score\n",
    "    print(\"F1-Score:-\", f1_score(y_test, y_test_pred))\n",
    "\n",
    "    # Predicted probability\n",
    "    y_test_pred_proba = model.predict_proba(X_test)[:,1]\n",
    "\n",
    "    # roc_auc\n",
    "    print(\"------------------ ROC --------------------\")\n",
    "    roc_auc = metrics.roc_auc_score(y_test, y_test_pred_proba)\n",
    "\n",
    "    # Plot the ROC curve\n",
    "    draw_roc(y_test, y_test_pred_proba)\n",
    "\n",
    "    # add all metrics score in final result store\n",
    "    results.loc[len(results)] = [model_name, metrics.accuracy_score(y_test, y_test_pred), f1_score(y_test, y_test_pred), roc_auc]\n",
    "\n",
    "    return None"
   ]
  },
  {
   "cell_type": "markdown",
   "metadata": {
    "colab_type": "text",
    "id": "z61H8NcIu6cL"
   },
   "source": [
    "#### Prediction results"
   ]
  },
  {
   "cell_type": "code",
   "execution_count": 78,
   "metadata": {},
   "outputs": [
    {
     "name": "stdout",
     "output_type": "stream",
     "text": [
      "------------------ Confusion Matrix --------------------\n",
      "[[56852    14]\n",
      " [   44    52]]\n"
     ]
    },
    {
     "data": {
      "image/png": "[encoded data removed]",
      "text/plain": [
       "<Figure size 432x288 with 2 Axes>"
      ]
     },
     "metadata": {
      "needs_background": "light"
     },
     "output_type": "display_data"
    },
    {
     "name": "stdout",
     "output_type": "stream",
     "text": [
      "------------------ classification_report --------------------\n",
      "              precision    recall  f1-score   support\n",
      "\n",
      "           0       1.00      1.00      1.00     56866\n",
      "           1       0.79      0.54      0.64        96\n",
      "\n",
      "    accuracy                           1.00     56962\n",
      "   macro avg       0.89      0.77      0.82     56962\n",
      "weighted avg       1.00      1.00      1.00     56962\n",
      "\n",
      "------------------ More Specific classification_report --------------------\n",
      "Accuracy:- 0.9989817773252344\n",
      "Sensitivity:- 0.5416666666666666\n",
      "Specificity:- 0.9997538071958639\n",
      "F1-Score:- 0.6419753086419753\n",
      "------------------ ROC --------------------\n"
     ]
    },
    {
     "data": {
      "image/png": "[encoded data removed]",
      "text/plain": [
       "<Figure size 360x360 with 1 Axes>"
      ]
     },
     "metadata": {
      "needs_background": "light"
     },
     "output_type": "display_data"
    }
   ],
   "source": [
    "display_test_results(\"Logistic Regression\", logistic_model)"
   ]
  },
  {
   "cell_type": "markdown",
   "metadata": {
    "colab_type": "text",
    "id": "BNVtUmj2u6cv"
   },
   "source": [
    "We can see that we have very good ROC on the test set 0.98, which is almost close to 1."
   ]
  },
  {
   "cell_type": "markdown",
   "metadata": {
    "colab_type": "text",
    "id": "fMQ3LVL2u6cx"
   },
   "source": [
    "### XGBoost"
   ]
  },
  {
   "cell_type": "code",
   "execution_count": 79,
   "metadata": {
    "colab": {},
    "colab_type": "code",
    "id": "rVaOVLGTu6cx"
   },
   "outputs": [],
   "source": [
    "# Importing XGBoost\n",
    "from xgboost import XGBClassifier"
   ]
  },
  {
   "cell_type": "code",
   "execution_count": 80,
   "metadata": {
    "colab": {
     "base_uri": "https://localhost:8080/",
     "height": 170
    },
    "colab_type": "code",
    "id": "4ZWn61VWu6dD",
    "outputId": "9e7e2d9d-4d32-4193-8608-09c1e243f873"
   },
   "outputs": [],
   "source": [
    "params = {'learning_rate': 0.2,\n",
    "          'max_depth': 2, \n",
    "          'n_estimators':200,\n",
    "          'subsample':0.9,\n",
    "         'objective':'binary:logistic'}\n"
   ]
  },
  {
   "cell_type": "code",
   "execution_count": 81,
   "metadata": {},
   "outputs": [
    {
     "name": "stdout",
     "output_type": "stream",
     "text": [
      "[11:45:28] WARNING: C:/Users/Administrator/workspace/xgboost-win64_release_1.4.0/src/learner.cc:573: \n",
      "Parameters: { \"params\" } might not be used.\n",
      "\n",
      "  This may not be accurate due to some parameters are only used in language bindings but\n",
      "  passed down to XGBoost core.  Or some parameters are not used but slip through this\n",
      "  verification. Please open an issue if you find above cases.\n",
      "\n",
      "\n",
      "[11:45:30] WARNING: C:/Users/Administrator/workspace/xgboost-win64_release_1.4.0/src/learner.cc:1095: Starting in XGBoost 1.3.0, the default evaluation metric used with the objective 'binary:logistic' was changed from 'error' to 'logloss'. Explicitly set eval_metric if you'd like to restore the old behavior.\n"
     ]
    },
    {
     "data": {
      "text/plain": [
       "XGBClassifier(base_score=0.5, booster='gbtree', colsample_bylevel=1,\n",
       "              colsample_bynode=1, colsample_bytree=1, gamma=0, gpu_id=-1,\n",
       "              importance_type='gain', interaction_constraints='',\n",
       "              learning_rate=0.300000012, max_delta_step=0, max_depth=6,\n",
       "              min_child_weight=1, missing=nan, monotone_constraints='()',\n",
       "              n_estimators=100, n_jobs=12, num_parallel_tree=1,\n",
       "              params={'learning_rate': 0.2, 'max_depth': 2, 'n_estimators': 200,\n",
       "                      'objective': 'binary:logistic', 'subsample': 0.9},\n",
       "              random_state=0, reg_alpha=0, reg_lambda=1, scale_pos_weight=1,\n",
       "              subsample=1, tree_method='exact', validate_parameters=1,\n",
       "              verbosity=None)"
      ]
     },
     "execution_count": 81,
     "metadata": {},
     "output_type": "execute_result"
    }
   ],
   "source": [
    "# fit model on training data\n",
    "xgb_model = XGBClassifier(params = params)\n",
    "xgb_model.fit(X_train, y_train)"
   ]
  },
  {
   "cell_type": "markdown",
   "metadata": {
    "colab_type": "text",
    "id": "421AFLmmu6dd"
   },
   "source": [
    "##### Prediction results"
   ]
  },
  {
   "cell_type": "code",
   "execution_count": 82,
   "metadata": {
    "colab": {},
    "colab_type": "code",
    "id": "97fAvuBSu6de"
   },
   "outputs": [
    {
     "name": "stdout",
     "output_type": "stream",
     "text": [
      "------------------ Confusion Matrix --------------------\n",
      "[[56859     7]\n",
      " [   24    72]]\n"
     ]
    },
    {
     "data": {
      "image/png": "[encoded data removed]",
      "text/plain": [
       "<Figure size 432x288 with 2 Axes>"
      ]
     },
     "metadata": {
      "needs_background": "light"
     },
     "output_type": "display_data"
    },
    {
     "name": "stdout",
     "output_type": "stream",
     "text": [
      "------------------ classification_report --------------------\n",
      "              precision    recall  f1-score   support\n",
      "\n",
      "           0       1.00      1.00      1.00     56866\n",
      "           1       0.91      0.75      0.82        96\n",
      "\n",
      "    accuracy                           1.00     56962\n",
      "   macro avg       0.96      0.87      0.91     56962\n",
      "weighted avg       1.00      1.00      1.00     56962\n",
      "\n",
      "------------------ More Specific classification_report --------------------\n",
      "Accuracy:- 0.9994557775359011\n",
      "Sensitivity:- 0.75\n",
      "Specificity:- 0.999876903597932\n",
      "F1-Score:- 0.8228571428571428\n",
      "------------------ ROC --------------------\n"
     ]
    },
    {
     "data": {
      "image/png": "[encoded data removed]",
      "text/plain": [
       "<Figure size 360x360 with 1 Axes>"
      ]
     },
     "metadata": {
      "needs_background": "light"
     },
     "output_type": "display_data"
    }
   ],
   "source": [
    "display_test_results(\"XG Boost\", xgb_model)"
   ]
  },
  {
   "cell_type": "markdown",
   "metadata": {
    "colab_type": "text",
    "id": "aj4qybydu6dy"
   },
   "source": [
    "### Decision Tree"
   ]
  },
  {
   "cell_type": "code",
   "execution_count": 83,
   "metadata": {
    "colab": {},
    "colab_type": "code",
    "id": "pacANTsyu6dy"
   },
   "outputs": [],
   "source": [
    "# Importing decision tree classifier\n",
    "from sklearn.tree import DecisionTreeClassifier"
   ]
  },
  {
   "cell_type": "code",
   "execution_count": 84,
   "metadata": {
    "colab": {
     "base_uri": "https://localhost:8080/",
     "height": 119
    },
    "colab_type": "code",
    "id": "XHH22W7Au6eE",
    "outputId": "aea16672-121b-41f7-f37f-df8a35f74339"
   },
   "outputs": [
    {
     "data": {
      "text/plain": [
       "DecisionTreeClassifier(max_depth=5, min_samples_leaf=100, min_samples_split=100,\n",
       "                       random_state=100)"
      ]
     },
     "execution_count": 84,
     "metadata": {},
     "output_type": "execute_result"
    }
   ],
   "source": [
    "# Model with optimal hyperparameters\n",
    "decision_tree_model = DecisionTreeClassifier(criterion = \"gini\", \n",
    "                                  random_state = 100,\n",
    "                                  max_depth=5, \n",
    "                                  min_samples_leaf=100,\n",
    "                                  min_samples_split=100)\n",
    "\n",
    "decision_tree_model.fit(X_train, y_train)"
   ]
  },
  {
   "cell_type": "markdown",
   "metadata": {
    "colab_type": "text",
    "id": "OXblPUcyu6eV"
   },
   "source": [
    "##### Prediction results"
   ]
  },
  {
   "cell_type": "code",
   "execution_count": 85,
   "metadata": {
    "colab": {},
    "colab_type": "code",
    "id": "Drgvh5S-u6eW"
   },
   "outputs": [
    {
     "name": "stdout",
     "output_type": "stream",
     "text": [
      "------------------ Confusion Matrix --------------------\n",
      "[[56836    30]\n",
      " [   40    56]]\n"
     ]
    },
    {
     "data": {
      "image/png": "[encoded data removed]",
      "text/plain": [
       "<Figure size 432x288 with 2 Axes>"
      ]
     },
     "metadata": {
      "needs_background": "light"
     },
     "output_type": "display_data"
    },
    {
     "name": "stdout",
     "output_type": "stream",
     "text": [
      "------------------ classification_report --------------------\n",
      "              precision    recall  f1-score   support\n",
      "\n",
      "           0       1.00      1.00      1.00     56866\n",
      "           1       0.65      0.58      0.62        96\n",
      "\n",
      "    accuracy                           1.00     56962\n",
      "   macro avg       0.83      0.79      0.81     56962\n",
      "weighted avg       1.00      1.00      1.00     56962\n",
      "\n",
      "------------------ More Specific classification_report --------------------\n",
      "Accuracy:- 0.9987711105649381\n",
      "Sensitivity:- 0.5833333333333334\n",
      "Specificity:- 0.9994724439911371\n",
      "F1-Score:- 0.6153846153846155\n",
      "------------------ ROC --------------------\n"
     ]
    },
    {
     "data": {
      "image/png": "[encoded data removed]",
      "text/plain": [
       "<Figure size 360x360 with 1 Axes>"
      ]
     },
     "metadata": {
      "needs_background": "light"
     },
     "output_type": "display_data"
    }
   ],
   "source": [
    "display_test_results(\"Decision Tree\", decision_tree_model)"
   ]
  },
  {
   "cell_type": "markdown",
   "metadata": {
    "colab_type": "text",
    "id": "QAEpBkAnu6en"
   },
   "source": [
    "### Random forest"
   ]
  },
  {
   "cell_type": "code",
   "execution_count": 86,
   "metadata": {
    "colab": {},
    "colab_type": "code",
    "id": "j2bJsLQwu6eo"
   },
   "outputs": [],
   "source": [
    "# Importing random forest classifier\n",
    "from sklearn.ensemble import RandomForestClassifier"
   ]
  },
  {
   "cell_type": "code",
   "execution_count": 87,
   "metadata": {
    "colab": {},
    "colab_type": "code",
    "id": "_j58LfpwMQ8E"
   },
   "outputs": [],
   "source": [
    "random_forest_model = RandomForestClassifier(bootstrap=True,\n",
    "                             max_depth=5,\n",
    "                             min_samples_leaf=50, \n",
    "                             min_samples_split=50,\n",
    "                             max_features=10,\n",
    "                             n_estimators=100)"
   ]
  },
  {
   "cell_type": "code",
   "execution_count": 88,
   "metadata": {
    "colab": {
     "base_uri": "https://localhost:8080/",
     "height": 153
    },
    "colab_type": "code",
    "id": "Bo0SY4aTMRDh",
    "outputId": "cc0a2c42-9fdf-4563-ca01-60ae73a1cf31"
   },
   "outputs": [
    {
     "data": {
      "text/plain": [
       "RandomForestClassifier(max_depth=5, max_features=10, min_samples_leaf=50,\n",
       "                       min_samples_split=50)"
      ]
     },
     "execution_count": 88,
     "metadata": {},
     "output_type": "execute_result"
    }
   ],
   "source": [
    "# Fit the model\n",
    "random_forest_model.fit(X_train, y_train)"
   ]
  },
  {
   "cell_type": "markdown",
   "metadata": {
    "colab_type": "text",
    "id": "GUoMedVZzfhi"
   },
   "source": [
    "##### Prediction results"
   ]
  },
  {
   "cell_type": "code",
   "execution_count": 89,
   "metadata": {
    "colab": {},
    "colab_type": "code",
    "id": "_u7sJZoZzfhi"
   },
   "outputs": [
    {
     "name": "stdout",
     "output_type": "stream",
     "text": [
      "------------------ Confusion Matrix --------------------\n",
      "[[56843    23]\n",
      " [   33    63]]\n"
     ]
    },
    {
     "data": {
      "image/png": "[encoded data removed]",
      "text/plain": [
       "<Figure size 432x288 with 2 Axes>"
      ]
     },
     "metadata": {
      "needs_background": "light"
     },
     "output_type": "display_data"
    },
    {
     "name": "stdout",
     "output_type": "stream",
     "text": [
      "------------------ classification_report --------------------\n",
      "              precision    recall  f1-score   support\n",
      "\n",
      "           0       1.00      1.00      1.00     56866\n",
      "           1       0.73      0.66      0.69        96\n",
      "\n",
      "    accuracy                           1.00     56962\n",
      "   macro avg       0.87      0.83      0.85     56962\n",
      "weighted avg       1.00      1.00      1.00     56962\n",
      "\n",
      "------------------ More Specific classification_report --------------------\n",
      "Accuracy:- 0.9990168884519505\n",
      "Sensitivity:- 0.65625\n",
      "Specificity:- 0.9995955403932051\n",
      "F1-Score:- 0.6923076923076923\n",
      "------------------ ROC --------------------\n"
     ]
    },
    {
     "data": {
      "image/png": "[encoded data removed]",
      "text/plain": [
       "<Figure size 360x360 with 1 Axes>"
      ]
     },
     "metadata": {
      "needs_background": "light"
     },
     "output_type": "display_data"
    }
   ],
   "source": [
    "display_test_results(\"Random Forest\", random_forest_model)"
   ]
  },
  {
   "cell_type": "markdown",
   "metadata": {},
   "source": [
    "## Summary"
   ]
  },
  {
   "cell_type": "code",
   "execution_count": 90,
   "metadata": {},
   "outputs": [
    {
     "data": {
      "text/html": [
       "<div>\n",
       "<style scoped>\n",
       "    .dataframe tbody tr th:only-of-type {\n",
       "        vertical-align: middle;\n",
       "    }\n",
       "\n",
       "    .dataframe tbody tr th {\n",
       "        vertical-align: top;\n",
       "    }\n",
       "\n",
       "    .dataframe thead th {\n",
       "        text-align: right;\n",
       "    }\n",
       "</style>\n",
       "<table border=\"1\" class=\"dataframe\">\n",
       "  <thead>\n",
       "    <tr style=\"text-align: right;\">\n",
       "      <th></th>\n",
       "      <th>Model Name</th>\n",
       "      <th>Accuracy</th>\n",
       "      <th>F1-score</th>\n",
       "      <th>ROC</th>\n",
       "    </tr>\n",
       "  </thead>\n",
       "  <tbody>\n",
       "    <tr>\n",
       "      <th>1</th>\n",
       "      <td>XG Boost</td>\n",
       "      <td>0.999456</td>\n",
       "      <td>0.822857</td>\n",
       "      <td>0.978537</td>\n",
       "    </tr>\n",
       "    <tr>\n",
       "      <th>0</th>\n",
       "      <td>Logistic Regression</td>\n",
       "      <td>0.998982</td>\n",
       "      <td>0.641975</td>\n",
       "      <td>0.977696</td>\n",
       "    </tr>\n",
       "    <tr>\n",
       "      <th>3</th>\n",
       "      <td>Random Forest</td>\n",
       "      <td>0.999017</td>\n",
       "      <td>0.692308</td>\n",
       "      <td>0.963978</td>\n",
       "    </tr>\n",
       "    <tr>\n",
       "      <th>2</th>\n",
       "      <td>Decision Tree</td>\n",
       "      <td>0.998771</td>\n",
       "      <td>0.615385</td>\n",
       "      <td>0.921750</td>\n",
       "    </tr>\n",
       "  </tbody>\n",
       "</table>\n",
       "</div>"
      ],
      "text/plain": [
       "            Model Name  Accuracy  F1-score       ROC\n",
       "1             XG Boost  0.999456  0.822857  0.978537\n",
       "0  Logistic Regression  0.998982  0.641975  0.977696\n",
       "3        Random Forest  0.999017  0.692308  0.963978\n",
       "2        Decision Tree  0.998771  0.615385  0.921750"
      ]
     },
     "execution_count": 90,
     "metadata": {},
     "output_type": "execute_result"
    }
   ],
   "source": [
    "results.sort_values(by=\"ROC\", ascending=False)"
   ]
  },
  {
   "cell_type": "code",
   "execution_count": null,
   "metadata": {},
   "outputs": [],
   "source": []
  }
 ],
 "metadata": {
  "accelerator": "GPU",
  "colab": {
   "name": "Sahidul-Credit-Card-Fraud-Detection.ipynb",
   "provenance": []
  },
  "hide_input": false,
  "kernelspec": {
   "display_name": "Python 3",
   "language": "python",
   "name": "python3"
  },
  "language_info": {
   "codemirror_mode": {
    "name": "ipython",
    "version": 3
   },
   "file_extension": ".py",
   "mimetype": "text/x-python",
   "name": "python",
   "nbconvert_exporter": "python",
   "pygments_lexer": "ipython3",
   "version": "3.8.8"
  }
 },
 "nbformat": 4,
 "nbformat_minor": 1
}
